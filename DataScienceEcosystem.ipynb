{
 "cells": [
  {
   "cell_type": "markdown",
   "id": "416db5dd-78cf-4919-a789-5ea90b549042",
   "metadata": {
    "tags": []
   },
   "source": [
    "# Data Science Tools and Ecosystem #"
   ]
  },
  {
   "cell_type": "markdown",
   "id": "065ba0ea-dc19-46b0-95e0-6f22a03bf979",
   "metadata": {},
   "source": [
    "### In this notebook, Data Science Tools and Ecosystem are summarized."
   ]
  },
  {
   "cell_type": "markdown",
   "id": "c86b5bb5-6fca-4726-818d-91cd2d76bbe6",
   "metadata": {
    "tags": []
   },
   "source": [
    "## Some of he popular languages that Data Scientists use are:\n",
    "1. Sql\n",
    "2. Pythone\n",
    "3. R"
   ]
  },
  {
   "cell_type": "markdown",
   "id": "ba4d13f7-95cf-45d5-81ba-b97dc55802ad",
   "metadata": {
    "jp-MarkdownHeadingCollapsed": true,
    "tags": []
   },
   "source": [
    "## Some of the commonly used libraries used by Data Scientists include:\n",
    "1. Numpy\n",
    "2. Pandas\n",
    "3. Seaborn"
   ]
  },
  {
   "cell_type": "markdown",
   "id": "773236fc-032c-41f4-8e71-4e2a54814a46",
   "metadata": {},
   "source": [
    "# Data Science Tools\n",
    "1. Jupyter notebook\n",
    "2. Git\n",
    "3. cloud"
   ]
  },
  {
   "cell_type": "markdown",
   "id": "d21d9bc0-632a-4148-91a6-e69646e381f6",
   "metadata": {
    "tags": []
   },
   "source": [
    "### Below are a few examples of evaluating arithmetic expressions in Python"
   ]
  },
  {
   "cell_type": "markdown",
   "id": "fc254455-3ed4-4d72-b969-59d1822925e7",
   "metadata": {
    "tags": []
   },
   "source": [
    "This a simple arithmetic expression to multiply then add integers"
   ]
  },
  {
   "cell_type": "code",
   "execution_count": 1,
   "id": "2045cc47-a054-4def-8064-668511b0ee54",
   "metadata": {
    "tags": []
   },
   "outputs": [
    {
     "name": "stdout",
     "output_type": "stream",
     "text": [
      "17\n"
     ]
    }
   ],
   "source": [
    "a = (3*4)+5\n",
    "print(a)"
   ]
  },
  {
   "cell_type": "markdown",
   "id": "8c214e30-db95-4a4d-9e5c-7e83776e2f74",
   "metadata": {},
   "source": [
    "This will convert 200 minutes to hours by dividing by 60"
   ]
  },
  {
   "cell_type": "code",
   "execution_count": 2,
   "id": "ac98c7f6-ec61-4e37-afcb-d6040e1bf2ae",
   "metadata": {
    "tags": []
   },
   "outputs": [
    {
     "name": "stdout",
     "output_type": "stream",
     "text": [
      "3.3333333333333335\n"
     ]
    }
   ],
   "source": [
    "a = (200/60) \n",
    "print(a)"
   ]
  },
  {
   "cell_type": "markdown",
   "id": "13edf770-27db-4ff7-9969-71b29c68f1cc",
   "metadata": {},
   "source": [
    "__Objectives__: List popular languages for Data Science\n",
    "1. Python\n",
    "2. R\n",
    "3. Java\n",
    "4. SQL\n",
    "5. Matlab"
   ]
  },
  {
   "cell_type": "markdown",
   "id": "7c5d060e-d825-411a-ace2-259bbb42f349",
   "metadata": {
    "tags": []
   },
   "source": [
    "## Author ##\n",
    " Himanshu Singh Chauhan"
   ]
  },
  {
   "cell_type": "code",
   "execution_count": null,
   "id": "ffa3b699-6d47-483d-b3be-134073701f90",
   "metadata": {},
   "outputs": [],
   "source": []
  }
 ],
 "metadata": {
  "kernelspec": {
   "display_name": "Python",
   "language": "python",
   "name": "conda-env-python-py"
  },
  "language_info": {
   "codemirror_mode": {
    "name": "ipython",
    "version": 3
   },
   "file_extension": ".py",
   "mimetype": "text/x-python",
   "name": "python",
   "nbconvert_exporter": "python",
   "pygments_lexer": "ipython3",
   "version": "3.7.12"
  }
 },
 "nbformat": 4,
 "nbformat_minor": 5
}
